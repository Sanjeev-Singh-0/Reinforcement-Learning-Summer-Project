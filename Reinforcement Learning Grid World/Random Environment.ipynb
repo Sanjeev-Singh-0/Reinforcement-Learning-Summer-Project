{
 "cells": [
  {
   "cell_type": "markdown",
   "id": "df7248fd",
   "metadata": {},
   "source": [
    "# Random Environment\n",
    "\n",
    "This notebook inlcudes the code to generate a random m x n environment in which the agent can be trained. When an environment is generated approximately 30% of the grid will be \"holes\" with a large negative reward. The aim is for the agent to avoid these holes as much as possible. The start point will always be at the top left corner [(0,0)] and the end point will always be at the bottom right corner [(m-1,n-1)].\n",
    "\n",
    "The goal throughout training remains the same regardless of the environment. The agent is to find the optimal path from the start point to the ends point. This path should maximise the reward.\n",
    "\n",
    "This environment can be used with either of the two algorthms which can be seen in the previous two notebooks. It should be noted that for larger environments it is preferable to use Deep Q learning utilising a Q Network over Q learning which uses a Q table. This is due to the fact that the Q table van become very long for larger environments.\n"
   ]
  },
  {
   "cell_type": "markdown",
   "id": "39ba2e18",
   "metadata": {},
   "source": [
    "## Importing libraries required for this project"
   ]
  },
  {
   "cell_type": "code",
   "execution_count": null,
   "id": "ec835279",
   "metadata": {},
   "outputs": [],
   "source": [
    "import numpy as np\n",
    "import random\n",
    "import matplotlib.pyplot as plt"
   ]
  },
  {
   "cell_type": "markdown",
   "id": "7339ff7e",
   "metadata": {},
   "source": [
    "## Creating a Class for the Base Environment\n",
    "\n",
    "A class is created which without the randonmess will generate a base 5x5 environment as seen previously"
   ]
  },
  {
   "cell_type": "code",
   "execution_count": 3,
   "id": "8b6f3aed",
   "metadata": {},
   "outputs": [],
   "source": [
    "class environment:\n",
    "    def __init__(self, n_x = 5, n_y = 5, initial_state = (0,0), loc_positive_reward=(4,4),\n",
    "                 loc_negative_reward = [(2,2),(2,3),(3,2),(3,3)]):\n",
    "        self.n_x = n_x\n",
    "        self.n_y = n_y\n",
    "        self.num_states = n_x * n_y\n",
    "        self.initial_state = initial_state\n",
    "        self.loc_positive_reward = loc_positive_reward\n",
    "        self.loc_negative_reward = loc_negative_reward\n",
    "        self.grid = np.zeros((self.n_y, self.n_x))\n",
    "        self.rewards_field = self.map_rewards()\n",
    "        \n",
    "# Assigns a reward value to each state within the grid\n",
    "    def assign_rewards(self,state):\n",
    "        if state == self.loc_positive_reward:\n",
    "            reward = 100\n",
    "        elif state in self.loc_negative_reward:\n",
    "            reward = -30\n",
    "        else:\n",
    "            reward = -1\n",
    "        return reward\n",
    "\n",
    "# Maps the assigned rewards to the grid world\n",
    "    def map_rewards(self):\n",
    "        rewards_field = np.zeros_like(self.grid)\n",
    "\n",
    "        for i in range(self.n_y):\n",
    "            for j in range(self.n_x):\n",
    "                rewards_field[i,j] = self.assign_rewards((i,j))\n",
    "        return rewards_field\n",
    "\n",
    "    def display_rewards(self):\n",
    "        print(self.rewards_field)\n",
    "\n",
    "    def plot_rewards(self):\n",
    "        plt.imshow(self.rewards_field, cmap=\"coolwarm\", origin=\"upper\")\n",
    "        plt.colorbar(label=\"Reward\")\n",
    "        plt.title(\"GridWorld\")\n",
    "        plt.show()\n"
   ]
  },
  {
   "cell_type": "markdown",
   "id": "cefda3bf",
   "metadata": {},
   "source": [
    "## Generating the Random Environment\n",
    "\n",
    "This function creates a random enviroment with approximately 30% of the area being holes. \n",
    "\n",
    "The minium length and maximum length of each size of the enviroment can be specifed as inputs to the function."
   ]
  },
  {
   "cell_type": "code",
   "execution_count": 12,
   "id": "131f166b",
   "metadata": {},
   "outputs": [
    {
     "data": {
      "image/png": "[encoded data removed]",
      "text/plain": [
       "<Figure size 640x480 with 2 Axes>"
      ]
     },
     "metadata": {},
     "output_type": "display_data"
    }
   ],
   "source": [
    "#Creates a random environment grid of size n x m with \"holes\" in multiple locations\n",
    "def random_env(min_length,max_length):\n",
    "    n_x_val = random.randint(min_length,max_length)\n",
    "    n_y_val = random.randint(min_length,max_length)\n",
    "    pos_reward_loc = (n_y_val -1 ,n_x_val - 1)\n",
    "    total_area = n_y_val * n_x_val\n",
    "    no_of_holes = round(0.3*total_area)\n",
    "    neg_reward_loc = []\n",
    "    ini_state = (0,0)\n",
    "    for i in range(no_of_holes):\n",
    "        add_hole = (random.randint(0,n_x_val-1),random.randint(0,n_y_val-1))\n",
    "        if add_hole != pos_reward_loc:\n",
    "            neg_reward_loc.append(add_hole)\n",
    "        no_of_holes += 1\n",
    "    return n_x_val, n_y_val, ini_state, pos_reward_loc, neg_reward_loc\n",
    "\n",
    "\n",
    "\n",
    "x = random_env(40,50)\n",
    "env = environment(*x)\n",
    "\n",
    "env.plot_rewards()"
   ]
  }
 ],
 "metadata": {
  "kernelspec": {
   "display_name": ".venv",
   "language": "python",
   "name": "python3"
  },
  "language_info": {
   "codemirror_mode": {
    "name": "ipython",
    "version": 3
   },
   "file_extension": ".py",
   "mimetype": "text/x-python",
   "name": "python",
   "nbconvert_exporter": "python",
   "pygments_lexer": "ipython3",
   "version": "3.13.4"
  }
 },
 "nbformat": 4,
 "nbformat_minor": 5
}
